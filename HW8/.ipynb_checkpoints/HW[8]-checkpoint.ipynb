{
 "cells": [
  {
   "cell_type": "code",
   "execution_count": 2,
   "metadata": {
    "id": "eVE9CXTgGLxO"
   },
   "outputs": [
    {
     "name": "stdout",
     "output_type": "stream",
     "text": [
      "Requirement already satisfied: pytesseract in c:\\users\\lenovo\\appdata\\local\\programs\\python\\python38\\lib\\site-packages (0.3.10)\n",
      "Requirement already satisfied: packaging>=21.3 in c:\\users\\lenovo\\appdata\\local\\programs\\python\\python38\\lib\\site-packages (from pytesseract) (21.3)\n",
      "Requirement already satisfied: Pillow>=8.0.0 in c:\\users\\lenovo\\appdata\\local\\programs\\python\\python38\\lib\\site-packages (from pytesseract) (9.2.0)\n",
      "Requirement already satisfied: pyparsing!=3.0.5,>=2.0.2 in c:\\users\\lenovo\\appdata\\local\\programs\\python\\python38\\lib\\site-packages (from packaging>=21.3->pytesseract) (3.0.9)\n"
     ]
    },
    {
     "name": "stderr",
     "output_type": "stream",
     "text": [
      "WARNING: You are using pip version 22.0.4; however, version 22.3.1 is available.\n",
      "You should consider upgrading via the 'C:\\Users\\Lenovo\\AppData\\Local\\Programs\\Python\\Python38\\python.exe -m pip install --upgrade pip' command.\n"
     ]
    }
   ],
   "source": [
    "#!sudo apt install tesseract-ocr\n",
    "!pip install pytesseract"
   ]
  },
  {
   "cell_type": "code",
   "execution_count": 3,
   "metadata": {
    "id": "iqHoYiSH62pz"
   },
   "outputs": [
    {
     "name": "stderr",
     "output_type": "stream",
     "text": [
      "'sudo' is not recognized as an internal or external command,\n",
      "operable program or batch file.\n"
     ]
    }
   ],
   "source": [
    "!sudo apt-get install tesseract-ocr-fas"
   ]
  },
  {
   "cell_type": "markdown",
   "metadata": {
    "id": "Vk-Bsayi63d_"
   },
   "source": [
    "# **الف:**"
   ]
  },
  {
   "cell_type": "code",
   "execution_count": 5,
   "metadata": {
    "colab": {
     "background_save": true
    },
    "id": "Kg_QnpkS0AE9"
   },
   "outputs": [
    {
     "ename": "NameError",
     "evalue": "name 'result' is not defined",
     "output_type": "error",
     "traceback": [
      "\u001b[1;31m---------------------------------------------------------------------------\u001b[0m",
      "\u001b[1;31mNameError\u001b[0m                                 Traceback (most recent call last)",
      "Cell \u001b[1;32mIn [5], line 14\u001b[0m\n\u001b[0;32m      7\u001b[0m img \u001b[38;5;241m=\u001b[39m cv2\u001b[38;5;241m.\u001b[39mimread(\u001b[38;5;124m\"\u001b[39m\u001b[38;5;124mroyan.jpg\u001b[39m\u001b[38;5;124m\"\u001b[39m)\n\u001b[0;32m     11\u001b[0m \u001b[38;5;66;03m################################################################\u001b[39;00m\n\u001b[0;32m     12\u001b[0m \u001b[38;5;66;03m# Finding contours\u001b[39;00m\n\u001b[0;32m     13\u001b[0m \u001b[38;5;66;03m## result = result otso|adaptive algorithm\u001b[39;00m\n\u001b[1;32m---> 14\u001b[0m \u001b[38;5;28mprint\u001b[39m(pytesseract\u001b[38;5;241m.\u001b[39mimage_to_string( \u001b[43mresult\u001b[49m , lang\u001b[38;5;241m=\u001b[39m\u001b[38;5;124m'\u001b[39m\u001b[38;5;124mfas\u001b[39m\u001b[38;5;124m'\u001b[39m))\n",
      "\u001b[1;31mNameError\u001b[0m: name 'result' is not defined"
     ]
    }
   ],
   "source": [
    "# Import required packages\n",
    "import cv2\n",
    "import pytesseract\n",
    "from google.colab.patches import cv2_imshow\n",
    "from PIL import Image\n",
    "\n",
    "##################### your code ################################\n",
    "img = cv2.imread(\"royan.jpg\")\n",
    "\n",
    "\n",
    "\n",
    "################################################################\n",
    "# Finding contours\n",
    "## result = result otso|adaptive algorithm\n",
    "print(pytesseract.image_to_string( result , lang='fas'))"
   ]
  },
  {
   "cell_type": "code",
   "execution_count": null,
   "metadata": {
    "id": "W3x3Ro2yHOMC"
   },
   "outputs": [],
   "source": [
    "image_path_in_colab='.....'\n",
    "extractedInformation = pytesseract.image_to_string(image_path_in_colab, lang='fas')\n",
    "print(extractedInformation)"
   ]
  },
  {
   "cell_type": "code",
   "execution_count": null,
   "metadata": {
    "id": "PyRrfRCj697Z"
   },
   "outputs": [],
   "source": []
  },
  {
   "cell_type": "markdown",
   "metadata": {
    "id": "YyPqXjW06-dh"
   },
   "source": [
    "# **ب:**"
   ]
  },
  {
   "cell_type": "code",
   "execution_count": null,
   "metadata": {
    "id": "JBGeZj_DTzfs"
   },
   "outputs": [],
   "source": [
    "# Import required packages\n",
    "import cv2\n",
    "import pytesseract\n",
    "from google.colab.patches import cv2_imshow\n",
    "from PIL import Image\n",
    "##################### your code ################################\n",
    "img = cv2.imread(\".....\")\n",
    "\n",
    "\n",
    "\n",
    "################################################################\n",
    "# Finding contours\n",
    "im2 = img.copy()\n",
    "contours, hierarchy = cv2.findContours(dilation, cv2.RETR_EXTERNAL,cv2.CHAIN_APPROX_NONE)\n",
    "\n",
    "for cnt in contours:\n",
    "  x, y, w, h = cv2.boundingRect(cnt)\n",
    "\t# Drawing a rectangle on copied image\n",
    "  rect = cv2.rectangle(im2, (x, y), (x + w, y + h), (0, 255, 0), 2)\n",
    "\t# Cropping the text block for giving input to OCR\n",
    "  cropped = im2[y:y + h, x:x + w]\n",
    "  print(pytesseract.image_to_string(cropped, lang='fas'))\n"
   ]
  },
  {
   "cell_type": "code",
   "execution_count": null,
   "metadata": {
    "id": "VOilxLYHVHwY"
   },
   "outputs": [],
   "source": [
    "image_path_in_colab='....'\n",
    "extractedInformation = pytesseract.image_to_string(image_path_in_colab, lang='fas')\n",
    "print(extractedInformation)"
   ]
  }
 ],
 "metadata": {
  "colab": {
   "provenance": []
  },
  "gpuClass": "standard",
  "kernelspec": {
   "display_name": "Python 3 (ipykernel)",
   "language": "python",
   "name": "python3"
  },
  "language_info": {
   "codemirror_mode": {
    "name": "ipython",
    "version": 3
   },
   "file_extension": ".py",
   "mimetype": "text/x-python",
   "name": "python",
   "nbconvert_exporter": "python",
   "pygments_lexer": "ipython3",
   "version": "3.8.1"
  }
 },
 "nbformat": 4,
 "nbformat_minor": 1
}
