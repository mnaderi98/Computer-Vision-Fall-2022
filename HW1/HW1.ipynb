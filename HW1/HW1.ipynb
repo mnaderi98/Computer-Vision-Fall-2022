{
 "cells": [
  {
   "cell_type": "markdown",
   "id": "f1249afc",
   "metadata": {},
   "source": [
    "4.1)Install OpenCV"
   ]
  },
  {
   "cell_type": "code",
   "execution_count": 11,
   "id": "405dfa27",
   "metadata": {},
   "outputs": [
    {
     "name": "stdout",
     "output_type": "stream",
     "text": [
      "Requirement already satisfied: opencv-python in c:\\users\\lenovo\\appdata\\local\\programs\\python\\python38\\lib\\site-packages (4.6.0.66)\n",
      "Requirement already satisfied: numpy>=1.14.5 in c:\\users\\lenovo\\appdata\\local\\programs\\python\\python38\\lib\\site-packages (from opencv-python) (1.22.2)\n"
     ]
    },
    {
     "name": "stderr",
     "output_type": "stream",
     "text": [
      "WARNING: You are using pip version 22.0.4; however, version 22.2.2 is available.\n",
      "You should consider upgrading via the 'C:\\Users\\Lenovo\\AppData\\Local\\Programs\\Python\\Python38\\python.exe -m pip install --upgrade pip' command.\n"
     ]
    }
   ],
   "source": [
    "!pip install opencv-python"
   ]
  },
  {
   "cell_type": "code",
   "execution_count": 12,
   "id": "6ee857a2",
   "metadata": {},
   "outputs": [],
   "source": [
    "import numpy\n",
    "import cv2"
   ]
  },
  {
   "cell_type": "markdown",
   "id": "b493b8ea",
   "metadata": {},
   "source": [
    "4.2)imread"
   ]
  },
  {
   "cell_type": "raw",
   "id": "ca8ee2bc",
   "metadata": {},
   "source": [
    "import numpy\n",
    "import cv2"
   ]
  },
  {
   "cell_type": "code",
   "execution_count": 13,
   "id": "5ad964bf",
   "metadata": {},
   "outputs": [],
   "source": [
    "img = cv2.imread('background.png', 1)"
   ]
  },
  {
   "cell_type": "markdown",
   "id": "00656a6e",
   "metadata": {},
   "source": [
    "4.3)cvtColor"
   ]
  },
  {
   "cell_type": "code",
   "execution_count": 14,
   "id": "56b334ff",
   "metadata": {},
   "outputs": [],
   "source": [
    "RGBimg = cv2.cvtColor(img, cv2.COLOR_BGR2RGB)"
   ]
  },
  {
   "cell_type": "markdown",
   "id": "a0f02adc",
   "metadata": {},
   "source": [
    "4.4)cv2.resize"
   ]
  },
  {
   "cell_type": "code",
   "execution_count": 15,
   "id": "d6d36c36",
   "metadata": {},
   "outputs": [],
   "source": [
    "image = cv2.resize(img, (570, 290))"
   ]
  },
  {
   "cell_type": "markdown",
   "id": "2b4f2657",
   "metadata": {},
   "source": [
    "4.5)cv2.line"
   ]
  },
  {
   "cell_type": "code",
   "execution_count": 16,
   "id": "f57517c9",
   "metadata": {},
   "outputs": [],
   "source": [
    "start_point = (5, 5)\n",
    "end_point = (5, 275)\n",
    "color = (0, 255, 0)\n",
    "thickness = 5\n",
    "image = cv2.line(image, start_point, end_point, color, thickness)\n",
    "\n",
    "start_point2 = (5, 5)\n",
    "end_point2 = (565, 5)\n",
    "color = (0, 255, 0)\n",
    "image = cv2.line(image, start_point2, end_point2, color, thickness)\n",
    "\n",
    "start_point3 = (565, 5)\n",
    "end_point3 = (565, 275)\n",
    "color = (0, 255, 0)\n",
    "image = cv2.line(image, start_point3, end_point3, color, thickness)\n",
    "\n",
    "start_point4 = (5, 275)\n",
    "end_point4 = (565, 275)\n",
    "color = (0, 255, 0)\n",
    "image = cv2.line(image, start_point4, end_point4, color, thickness)"
   ]
  },
  {
   "cell_type": "markdown",
   "id": "a2139689",
   "metadata": {},
   "source": [
    "4.6)cv2.circle"
   ]
  },
  {
   "cell_type": "code",
   "execution_count": 24,
   "id": "0826b7c3",
   "metadata": {},
   "outputs": [],
   "source": [
    "window_name = 'Image'\n",
    "radius = 5\n",
    "thickness = 1\n",
    "\n",
    "center_coordinates1 = (5,5)\n",
    "color1 = (255, 0, 0)\n",
    "center_coordinates2 = (565,5)\n",
    "color2 = (0, 255, 0)\n",
    "center_coordinates3 = (5,275)\n",
    "color3 = (0, 0, 255)\n",
    "center_coordinates4 = (565,275)\n",
    "color4 = (255, 255, 255)\n",
    "  \n",
    "image = cv2.circle(image, center_coordinates1, radius, color1, thickness)\n",
    "image = cv2.circle(image, center_coordinates2, radius, color2, thickness)\n",
    "image = cv2.circle(image, center_coordinates3, radius, color3, thickness)\n",
    "image = cv2.circle(image, center_coordinates4, radius, color4, thickness)\n",
    "\n",
    "cv2.imshow(window_name, image)\n"
   ]
  },
  {
   "cell_type": "markdown",
   "id": "3335b433",
   "metadata": {},
   "source": [
    "4.7)cv2.imshow"
   ]
  },
  {
   "cell_type": "code",
   "execution_count": 37,
   "id": "d4878848",
   "metadata": {},
   "outputs": [],
   "source": [
    "endimage = cv2.imread('end.png')\n",
    "color = (0, 0, 0)\n",
    "\n",
    "endimage = cv2.line(endimage, (0,0), (0,140), color, thickness)\n",
    "endimage = cv2.line(endimage, (0,0), (80,140), color, thickness)\n",
    "endimage = cv2.line(endimage, (0,0), (160,140), color, thickness)\n",
    "endimage = cv2.line(endimage, (0,0), (240,140), color, thickness)\n",
    "endimage = cv2.line(endimage, (0,0), (320,140), color, thickness)\n",
    "endimage = cv2.line(endimage, (0,0), (400,140), color, thickness)\n",
    "endimage = cv2.line(endimage, (0,0), (480,140), color, thickness)\n",
    "endimage = cv2.line(endimage, (0,0), (560,140), color, thickness)\n",
    "\n",
    "endimage = cv2.line(endimage, (0,280), (0,140), color, thickness)\n",
    "endimage = cv2.line(endimage, (0,280), (80,140), color, thickness)\n",
    "endimage = cv2.line(endimage, (0,280), (160,140), color, thickness)\n",
    "endimage = cv2.line(endimage, (0,280), (240,140), color, thickness)\n",
    "endimage = cv2.line(endimage, (0,280), (320,140), color, thickness)\n",
    "endimage = cv2.line(endimage, (0,280), (400,140), color, thickness)\n",
    "endimage = cv2.line(endimage, (0,280), (480,140), color, thickness)\n",
    "endimage = cv2.line(endimage, (0,280), (560,140), color, thickness)\n",
    "\n",
    "endimage = cv2.line(endimage, (560,0), (0,140), color, thickness)\n",
    "endimage = cv2.line(endimage, (560,0), (80,140), color, thickness)\n",
    "endimage = cv2.line(endimage, (560,0), (160,140), color, thickness)\n",
    "endimage = cv2.line(endimage, (560,0), (240,140), color, thickness)\n",
    "endimage = cv2.line(endimage, (560,0), (320,140), color, thickness)\n",
    "endimage = cv2.line(endimage, (560,0), (400,140), color, thickness)\n",
    "endimage = cv2.line(endimage, (560,0), (480,140), color, thickness)\n",
    "\n",
    "endimage = cv2.line(endimage, (560,280), (0,140), color, thickness)\n",
    "endimage = cv2.line(endimage, (560,280), (80,140), color, thickness)\n",
    "endimage = cv2.line(endimage, (560,280), (160,140), color, thickness)\n",
    "endimage = cv2.line(endimage, (560,280), (240,140), color, thickness)\n",
    "endimage = cv2.line(endimage, (560,280), (320,140), color, thickness)\n",
    "endimage = cv2.line(endimage, (560,280), (400,140), color, thickness)\n",
    "endimage = cv2.line(endimage, (560,280), (480,140), color, thickness)\n",
    "\n",
    "endimage = cv2.line(endimage, (0,0), (0,560), color, thickness)\n",
    "cv2.imshow('end', endimage)"
   ]
  },
  {
   "cell_type": "markdown",
   "id": "640346b8",
   "metadata": {},
   "source": [
    "4.8)cv2.imwrite(filename, img)"
   ]
  },
  {
   "cell_type": "code",
   "execution_count": 38,
   "id": "71463f0e",
   "metadata": {},
   "outputs": [
    {
     "data": {
      "text/plain": [
       "True"
      ]
     },
     "execution_count": 38,
     "metadata": {},
     "output_type": "execute_result"
    }
   ],
   "source": [
    "cv2.imwrite(\"mypic.jpg\", endimage)"
   ]
  },
  {
   "cell_type": "code",
   "execution_count": null,
   "id": "1e0746cf",
   "metadata": {},
   "outputs": [],
   "source": []
  },
  {
   "cell_type": "code",
   "execution_count": null,
   "id": "18d471b6",
   "metadata": {},
   "outputs": [],
   "source": []
  }
 ],
 "metadata": {
  "kernelspec": {
   "display_name": "Python 3 (ipykernel)",
   "language": "python",
   "name": "python3"
  },
  "language_info": {
   "codemirror_mode": {
    "name": "ipython",
    "version": 3
   },
   "file_extension": ".py",
   "mimetype": "text/x-python",
   "name": "python",
   "nbconvert_exporter": "python",
   "pygments_lexer": "ipython3",
   "version": "3.8.1"
  }
 },
 "nbformat": 4,
 "nbformat_minor": 5
}
